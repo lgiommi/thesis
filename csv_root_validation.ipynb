{
 "cells": [
  {
   "cell_type": "markdown",
   "metadata": {},
   "source": [
    "# How to see if the csv is consistent with root file"
   ]
  },
  {
   "cell_type": "markdown",
   "metadata": {},
   "source": [
    "First of all we want to see in a easy way how the csv looks like."
   ]
  },
  {
   "cell_type": "code",
   "execution_count": 1,
   "metadata": {},
   "outputs": [
    {
     "name": "stdout",
     "output_type": "stream",
     "text": [
      "runNo,evtNo,nJets,nLeptons,nBJets,category,mva,jetPt,jetEta,jetPhi,jetMass,jetMassSoftDrop,jetTau1,jetTau2,jetTau3,triggerBit\r\n",
      "273158,228810226,2,0,0,0,0.189198,[ 541.77087402  464.63562012],[-1.27204072 -1.12141407],[ 0.85293347 -2.31530166],[  90.10404968  169.53872681],[  55.78746414  157.27244568],[ 0.10322858  0.32209143],[ 0.07227356  0.10500722],[ 0.06205374  0.08902366],[ True  True  True False False False False False False False]\r\n"
     ]
    }
   ],
   "source": [
    "!head -2 small10kevts.csv"
   ]
  },
  {
   "cell_type": "markdown",
   "metadata": {},
   "source": [
    "Import read_csv. We need it later to read the csv file."
   ]
  },
  {
   "cell_type": "code",
   "execution_count": 2,
   "metadata": {},
   "outputs": [],
   "source": [
    "from pandas import read_csv"
   ]
  },
  {
   "cell_type": "markdown",
   "metadata": {},
   "source": [
    "Use read_csv with the csv file that you want to inspect and print out how many columns and rows there are in the file."
   ]
  },
  {
   "cell_type": "code",
   "execution_count": 3,
   "metadata": {},
   "outputs": [
    {
     "name": "stdout",
     "output_type": "stream",
     "text": [
      "(10000, 16)\n"
     ]
    }
   ],
   "source": [
    "filename = 'small10kevts.csv'\n",
    "data = read_csv(filename)\n",
    "print(data.shape)"
   ]
  },
  {
   "cell_type": "markdown",
   "metadata": {},
   "source": [
    "Inspect in a different way how the csv is made."
   ]
  },
  {
   "cell_type": "code",
   "execution_count": 4,
   "metadata": {},
   "outputs": [
    {
     "name": "stdout",
     "output_type": "stream",
     "text": [
      "    runNo      evtNo  nJets  nLeptons  nBJets  category       mva  \\\n",
      "0  273158  228810226      2         0       0         0  0.189198   \n",
      "1  273158  229307679      2         0       2         1  0.521495   \n",
      "2  273158  228310605      2         0       1         1  0.156925   \n",
      "3  273158  229301195      2         0       0         0  0.672768   \n",
      "4  273158  228701365      2         0       0         0  0.112140   \n",
      "\n",
      "                           jetPt                     jetEta  \\\n",
      "0  [ 541.77087402  464.63562012]  [-1.27204072 -1.12141407]   \n",
      "1  [ 517.32470703  496.56582642]  [-0.2537986  -0.87236762]   \n",
      "2  [ 349.65866089  332.52963257]  [ 1.73221755  1.67374265]   \n",
      "3  [ 594.96844482  274.63192749]  [ 0.89914244  0.98478043]   \n",
      "4  [ 459.79718018  370.2250061 ]  [ 1.69145811  1.48902428]   \n",
      "\n",
      "                      jetPhi                        jetMass  \\\n",
      "0  [ 0.85293347 -2.31530166]  [  90.10404968  169.53872681]   \n",
      "1  [-0.57428694  2.58487558]  [ 118.85973358  111.77454376]   \n",
      "2  [-2.57324243  0.54033947]    [ 96.30269623  79.04605865]   \n",
      "3  [-1.6542356   0.99271303]  [ 154.22750854   79.55821228]   \n",
      "4  [-1.60586107  0.7266683 ]  [ 100.54259491  107.99253845]   \n",
      "\n",
      "                 jetMassSoftDrop                    jetTau1  \\\n",
      "0  [  55.78746414  157.27244568]  [ 0.10322858  0.32209143]   \n",
      "1    [ 78.54223633  88.19883728]  [ 0.21970239  0.20030583]   \n",
      "2    [ 81.97145081  52.33564377]  [ 0.2550838   0.20548898]   \n",
      "3  [ 145.40226746   70.22924042]  [ 0.1574429   0.25757334]   \n",
      "4    [ 59.64906693  68.79566956]  [ 0.17243049  0.29329273]   \n",
      "\n",
      "                     jetTau2                    jetTau3  \\\n",
      "0  [ 0.07227356  0.10500722]  [ 0.06205374  0.08902366]   \n",
      "1  [ 0.1079993   0.08130891]  [ 0.08149232  0.05912198]   \n",
      "2  [ 0.09713145  0.14003983]  [ 0.08022925  0.1168929 ]   \n",
      "3  [ 0.04478972  0.17003486]  [ 0.04123738  0.09245322]   \n",
      "4  [ 0.09581608  0.17479421]  [ 0.08641738  0.14332913]   \n",
      "\n",
      "                                          triggerBit  \n",
      "0  [ True  True  True False False False False Fal...  \n",
      "1  [ True  True  True False False False False Fal...  \n",
      "2  [False  True  True False False False False Fal...  \n",
      "3  [ True  True  True False False False False Fal...  \n",
      "4  [False  True  True False False False False Fal...  \n"
     ]
    }
   ],
   "source": [
    "peek=data.head(5)\n",
    "print (peek)"
   ]
  },
  {
   "cell_type": "markdown",
   "metadata": {},
   "source": [
    "Print out the type of the columns"
   ]
  },
  {
   "cell_type": "code",
   "execution_count": 5,
   "metadata": {},
   "outputs": [
    {
     "name": "stdout",
     "output_type": "stream",
     "text": [
      "runNo                int64\n",
      "evtNo                int64\n",
      "nJets                int64\n",
      "nLeptons             int64\n",
      "nBJets               int64\n",
      "category             int64\n",
      "mva                float64\n",
      "jetPt               object\n",
      "jetEta              object\n",
      "jetPhi              object\n",
      "jetMass             object\n",
      "jetMassSoftDrop     object\n",
      "jetTau1             object\n",
      "jetTau2             object\n",
      "jetTau3             object\n",
      "triggerBit          object\n",
      "dtype: object\n"
     ]
    }
   ],
   "source": [
    "types = data.dtypes\n",
    "print(types)"
   ]
  },
  {
   "cell_type": "markdown",
   "metadata": {},
   "source": [
    "Use matplotlib to plot data"
   ]
  },
  {
   "cell_type": "code",
   "execution_count": 17,
   "metadata": {},
   "outputs": [
    {
     "data": {
      "text/plain": [
       "<matplotlib.axes._subplots.AxesSubplot at 0x11daf62d0>"
      ]
     },
     "execution_count": 17,
     "metadata": {},
     "output_type": "execute_result"
    },
    {
     "data": {
      "image/png": "[encoded data removed]",
      "text/plain": [
       "<matplotlib.figure.Figure at 0x11daf8f50>"
      ]
     },
     "metadata": {},
     "output_type": "display_data"
    }
   ],
   "source": [
    "import matplotlib.pyplot as plt\n",
    "data['evtNo'].hist(bins=50)"
   ]
  },
  {
   "cell_type": "markdown",
   "metadata": {},
   "source": [
    "Because of inside the csv there are arrays and read_csv import them as strings, I want to see the length of the first record of a branch and which characters are inside."
   ]
  },
  {
   "cell_type": "code",
   "execution_count": 7,
   "metadata": {},
   "outputs": [
    {
     "name": "stdout",
     "output_type": "stream",
     "text": [
      "Length of the first record of the branch jetPt ->  29\n",
      "Characters inside the string: \n",
      "[\n",
      " \n",
      "5\n",
      "4\n",
      "1\n",
      ".\n",
      "7\n",
      "7\n",
      "0\n",
      "8\n",
      "7\n",
      "4\n",
      "0\n",
      "2\n",
      " \n",
      " \n",
      "4\n",
      "6\n",
      "4\n",
      ".\n",
      "6\n",
      "3\n",
      "5\n",
      "6\n",
      "2\n",
      "0\n",
      "1\n",
      "2\n",
      "]\n"
     ]
    }
   ],
   "source": [
    "print \"Length of the first record of the branch jetPt -> \", (len(data['jetPt'][0]))\n",
    "print \"Characters inside the string: \"\n",
    "for i in range (0,len(data['jetPt'][0])):\n",
    "    print (data['jetPt'][0][i])"
   ]
  },
  {
   "cell_type": "code",
   "execution_count": 8,
   "metadata": {},
   "outputs": [
    {
     "name": "stdout",
     "output_type": "stream",
     "text": [
      "[ True  True  True False False False False False False False]\n",
      "['True', 'True', 'True', 'False', 'False', 'False', 'False', 'False', 'False', 'False']\n",
      "[1, 1, 1, 0, 0, 0, 0, 0, 0, 0]\n"
     ]
    }
   ],
   "source": [
    "count=[] # It will contains for each event the array of the numbers inside the selected branch\n",
    "         # or True/False if the branch contains booleans \n",
    "lst=[] # It will contains as items all the characters of a number\n",
    "print (data['triggerBit'][0]) # Print how a record looks like\n",
    "start=0 # I have to modify \"start\" when I start to read the first character\n",
    "        # of the string different from \"prohibited\" characters\n",
    "prohibited=['[',']', \" \"]\n",
    "for i in range (0,len(data['triggerBit'][0])):\n",
    "    if data['triggerBit'][0][i] not in prohibited:\n",
    "        start=1\n",
    "        lst.append(data['triggerBit'][0][i])\n",
    "    elif start == 0:\n",
    "        continue\n",
    "    else:\n",
    "        if lst==[]:\n",
    "            continue\n",
    "        count.append(''.join(lst))\n",
    "        lst=[]\n",
    "print count # Now the list is maded by single words\n",
    "count = [int(eval(i)) for i in count] # Convert and then print the list made of numbers now (this line is for booleans)\n",
    "# count = [float(i) for i in count]   # This line is for numbers (float)\n",
    "print count"
   ]
  },
  {
   "cell_type": "markdown",
   "metadata": {},
   "source": [
    "Import pyROOT to plot data imported from the root file"
   ]
  },
  {
   "cell_type": "code",
   "execution_count": 9,
   "metadata": {},
   "outputs": [
    {
     "name": "stdout",
     "output_type": "stream",
     "text": [
      "Welcome to JupyROOT 6.12/04\n"
     ]
    }
   ],
   "source": [
    "import ROOT\n",
    "from ROOT import TCanvas, TH1F"
   ]
  },
  {
   "cell_type": "markdown",
   "metadata": {},
   "source": [
    "Show the histogram for \"triggerBit\"."
   ]
  },
  {
   "cell_type": "code",
   "execution_count": 10,
   "metadata": {},
   "outputs": [
    {
     "data": {
      "image/png": "[encoded data removed]",
      "text/plain": [
       "<IPython.core.display.Image object>"
      ]
     },
     "metadata": {},
     "output_type": "display_data"
    }
   ],
   "source": [
    "c = TCanvas(\"c1\",\"c1\")\n",
    "histo=TH1F(\"histogram\",\"triggerBit\", 2, 0, 2)\n",
    "prohibited=['[',']', \" \"]\n",
    "for evts in range (0, len(data['triggerBit'])):\n",
    "    count=[] # It will contains for each event the array of the numbers inside the selected branch\n",
    "             # or True/False if the branch contains booleans \n",
    "    lst=[] # It will contains as items all the characters of a number\n",
    "    start=0 # I have to modify \"start\" when I start to read the first character\n",
    "            # of the string different from \"prohibited\" characters\n",
    "    for i in range (0,len(data['triggerBit'][evts])):\n",
    "        if data['triggerBit'][evts][i] not in prohibited:\n",
    "            start=1\n",
    "            lst.append(data['triggerBit'][evts][i])\n",
    "        elif start == 0:\n",
    "            continue\n",
    "        else:\n",
    "            if lst==[]:\n",
    "                continue\n",
    "            count.append(''.join(lst))\n",
    "            lst=[]\n",
    "    count = [int(eval(i)) for i in count] # Convert and then print the list made of numbers now (this line is for booleans)\n",
    "    #count = [float(i) for i in count]    #This line is for numbers (float)\n",
    "    for i in range (0, len(count)):\n",
    "        histo.Fill(count[i])\n",
    "histo.Draw()\n",
    "c.Draw()"
   ]
  },
  {
   "cell_type": "markdown",
   "metadata": {},
   "source": [
    "Show the histogram for jetPt"
   ]
  },
  {
   "cell_type": "code",
   "execution_count": 11,
   "metadata": {},
   "outputs": [
    {
     "name": "stderr",
     "output_type": "stream",
     "text": [
      "Warning in <TCanvas::Constructor>: Deleting canvas with same name: c1\n",
      "Warning in <TROOT::Append>: Replacing existing TH1: histogram (Potential memory leak).\n"
     ]
    },
    {
     "data": {
      "image/png": "[encoded data removed]",
      "text/plain": [
       "<IPython.core.display.Image object>"
      ]
     },
     "metadata": {},
     "output_type": "display_data"
    }
   ],
   "source": [
    "c = TCanvas(\"c1\",\"c1\")\n",
    "histo=TH1F(\"histogram\",\"jetPt\", 100, 0, 1700)\n",
    "prohibited=['[',']', \" \"]\n",
    "for evts in range (0, len(data['jetPt'])):\n",
    "    count=[] # It will contains for each event the array of the numbers inside the selected branch\n",
    "             # or True/False if the branch contains booleans \n",
    "    lst=[] # It will contains as items all the characters of a number\n",
    "    start=0 # I have to modify \"start\" when I start to read the first character\n",
    "            # of the string different from \"prohibited\" characters\n",
    "    for i in range (0,len(data['jetPt'][evts])):\n",
    "        if data['jetPt'][evts][i] not in prohibited:\n",
    "            start=1\n",
    "            lst.append(data['jetPt'][evts][i])\n",
    "        elif start == 0:\n",
    "            continue\n",
    "        else:\n",
    "            if lst==[]:\n",
    "                continue\n",
    "            count.append(''.join(lst))\n",
    "            lst=[]\n",
    "    #count = [int(eval(i)) for i in count] # Convert and then print the list made of numbers now (this line is for booleans)\n",
    "    count = [float(i) for i in count]   # This line is for numbers (float)\n",
    "    for i in range (0, len(count)):\n",
    "        histo.Fill(count[i])\n",
    "histo.Draw()\n",
    "c.Draw()"
   ]
  },
  {
   "cell_type": "markdown",
   "metadata": {},
   "source": [
    "Show the histogram of \"evtNo\" and we can see that is similar to the same one done with matplotlib."
   ]
  },
  {
   "cell_type": "code",
   "execution_count": 12,
   "metadata": {},
   "outputs": [
    {
     "name": "stderr",
     "output_type": "stream",
     "text": [
      "Warning in <TCanvas::Constructor>: Deleting canvas with same name: c1\n",
      "Warning in <TROOT::Append>: Replacing existing TH1: histogram (Potential memory leak).\n"
     ]
    },
    {
     "data": {
      "image/png": "[encoded data removed]",
      "text/plain": [
       "<IPython.core.display.Image object>"
      ]
     },
     "metadata": {},
     "output_type": "display_data"
    }
   ],
   "source": [
    "c = TCanvas(\"c1\",\"c1\")\n",
    "histo=TH1F(\"histogram\",\"evtNo\", 100, -4e+09, 4e09)\n",
    "for index, row in data.iterrows():\n",
    "    histo.Fill(row[1])\n",
    "histo.Draw()\n",
    "c.Draw()"
   ]
  },
  {
   "cell_type": "markdown",
   "metadata": {},
   "source": [
    "Load the root file using pyROOT. We want to see that the histograms produced using te csv data and the ROOT file are the same."
   ]
  },
  {
   "cell_type": "code",
   "execution_count": 13,
   "metadata": {},
   "outputs": [],
   "source": [
    "f = ROOT.TFile(\"small10kevts.root\")\n",
    "t=f.Get(\"events\")"
   ]
  },
  {
   "cell_type": "markdown",
   "metadata": {},
   "source": [
    "Plot \"jetPt\", \"evtNo\" and \"nJets\" as examples."
   ]
  },
  {
   "cell_type": "code",
   "execution_count": 14,
   "metadata": {},
   "outputs": [
    {
     "data": {
      "image/png": "[encoded data removed]",
      "text/plain": [
       "<IPython.core.display.Image object>"
      ]
     },
     "metadata": {},
     "output_type": "display_data"
    }
   ],
   "source": [
    "d = ROOT.TCanvas(\"myCanvasName\",\"The Canvas Title\",700,500)\n",
    "prova=TH1F(\"histogram\",\"jetPt\", 100, 0, 1700)\n",
    "for ientry in t:\n",
    "    for i in range(0,len(t.jetPt)):\n",
    "        prova.Fill(t.jetPt[i])\n",
    "prova.Draw()\n",
    "d.Draw()\n"
   ]
  },
  {
   "cell_type": "code",
   "execution_count": 15,
   "metadata": {},
   "outputs": [
    {
     "name": "stderr",
     "output_type": "stream",
     "text": [
      "Warning in <TCanvas::Constructor>: Deleting canvas with same name: myCanvasName\n",
      "Warning in <TFile::Append>: Replacing existing TH1: histogram (Potential memory leak).\n"
     ]
    },
    {
     "data": {
      "image/png": "[encoded data removed]",
      "text/plain": [
       "<IPython.core.display.Image object>"
      ]
     },
     "metadata": {},
     "output_type": "display_data"
    }
   ],
   "source": [
    "c = ROOT.TCanvas(\"myCanvasName\",\"The Canvas Title\",700,500)\n",
    "prova=TH1F(\"histogram\",\"evtNo\", 100, -4000e+06, 4000e+06)\n",
    "t.Draw(\"evtNo\")\n",
    "#t.GetMax(\"evtNo\")\n",
    "c.Draw()"
   ]
  },
  {
   "cell_type": "code",
   "execution_count": 16,
   "metadata": {},
   "outputs": [
    {
     "name": "stderr",
     "output_type": "stream",
     "text": [
      "Warning in <TCanvas::Constructor>: Deleting canvas with same name: myCanvasName\n"
     ]
    },
    {
     "data": {
      "image/png": "[encoded data removed]",
      "text/plain": [
       "<IPython.core.display.Image object>"
      ]
     },
     "metadata": {},
     "output_type": "display_data"
    }
   ],
   "source": [
    "c = ROOT.TCanvas(\"myCanvasName\",\"The Canvas Title\",700,500)\n",
    "t.Draw(\"nJets\")\n",
    "c.Draw()"
   ]
  },
  {
   "cell_type": "code",
   "execution_count": null,
   "metadata": {},
   "outputs": [],
   "source": []
  }
 ],
 "metadata": {
  "kernelspec": {
   "display_name": "Python 2",
   "language": "python",
   "name": "python2"
  },
  "language_info": {
   "codemirror_mode": {
    "name": "ipython",
    "version": 2
   },
   "file_extension": ".py",
   "mimetype": "text/x-python",
   "name": "python",
   "nbconvert_exporter": "python",
   "pygments_lexer": "ipython2",
   "version": "2.7.14"
  }
 },
 "nbformat": 4,
 "nbformat_minor": 2
}
