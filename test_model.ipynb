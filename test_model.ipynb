{
 "cells": [
  {
   "cell_type": "markdown",
   "metadata": {},
   "source": [
    "# Apply the model to a dataset and inspect predictions"
   ]
  },
  {
   "cell_type": "code",
   "execution_count": 1,
   "metadata": {},
   "outputs": [],
   "source": [
    "from pandas import read_csv\n",
    "import numpy as np\n",
    "import pandas as pd"
   ]
  },
  {
   "cell_type": "markdown",
   "metadata": {},
   "source": [
    "Load the two csv files and create the two datasets (with simulated and reale data)"
   ]
  },
  {
   "cell_type": "code",
   "execution_count": 2,
   "metadata": {},
   "outputs": [],
   "source": [
    "filename = 'simulatoReduced.csv'\n",
    "names=['category','mva','nBJets','nJets','nLeptons','jetEta_0','jetEta_1','jetEta_2','jetEta_3','jetEta_4',\\\n",
    "      'jetMass_0','jetMass_1','jetMass_2','jetMass_3','jetMass_4','jetMassSoftDrop_0','jetMassSoftDrop_1',\\\n",
    "      'jetMassSoftDrop_2','jetMassSoftDrop_3','jetMassSoftDrop_4',\\\n",
    "       'jetPhi_0','jetPhi_1','jetPhi_2','jetPhi_3','jetPhi_4',\\\n",
    "      'jetPt_0','jetPt_1','jetPt_2','jetPt_3','jetPt_4','jetTau1_0','jetTau1_1','jetTau1_2','jetTau1_3','jetTau1_4',\\\n",
    "      'jetTau2_0','jetTau2_1','jetTau2_2','jetTau2_3','jetTau2_4','jetTau3_0','jetTau3_1','jetTau3_2',\\\n",
    "      'jetTau3_3','jetTau3_4','triggerBit_0','triggerBit_1','triggerBit_2','triggerBit_3','triggerBit_4',\\\n",
    "      'triggerBit_5','triggerBit_6','triggerBit_7','triggerBit_8','triggerBit_9']\n",
    "data_SIM = read_csv(filename, names=names)"
   ]
  },
  {
   "cell_type": "code",
   "execution_count": 3,
   "metadata": {},
   "outputs": [],
   "source": [
    "filename = 'reale3.5.csv'\n",
    "data = read_csv(filename, names=names)"
   ]
  },
  {
   "cell_type": "code",
   "execution_count": 4,
   "metadata": {},
   "outputs": [
    {
     "name": "stdout",
     "output_type": "stream",
     "text": [
      "('SIM_test -> ', 113924)\n"
     ]
    }
   ],
   "source": [
    "row_list=[]\n",
    "for index, row in data_SIM.iterrows():\n",
    "    if data_SIM['triggerBit_2'][index]==1 and data_SIM['nJets'][index]>=2 and \\\n",
    "    data_SIM['jetPt_0'][index]>400 and data_SIM['jetPt_1'][index]>400 and data_SIM['nLeptons'][index]==0 and data_SIM['category'][index]==1:\n",
    "        row_list.append(row.tolist())\n",
    "print (\"SIM_test -> \", len(row_list))\n",
    "SIM_test = pd.DataFrame(row_list,columns=names)"
   ]
  },
  {
   "cell_type": "code",
   "execution_count": 36,
   "metadata": {},
   "outputs": [
    {
     "name": "stdout",
     "output_type": "stream",
     "text": [
      "('dati_test -> ', 175399)\n"
     ]
    }
   ],
   "source": [
    "row_list=[]\n",
    "for index, row in data.iterrows():\n",
    "    if data['triggerBit_2'][index]==1 and data['nJets'][index]>=2 and \\\n",
    "    data['jetPt_0'][index]>400 and data['jetPt_1'][index]>400 and data['nLeptons'][index]==0 and \\\n",
    "    data['category'][index]==1:\n",
    "        row_list.append(row.tolist())\n",
    "print (\"dati_test -> \", len(row_list))\n",
    "dati_test = pd.DataFrame(row_list,columns=names)"
   ]
  },
  {
   "cell_type": "markdown",
   "metadata": {},
   "source": [
    "Load the model and apply it to the csv file with simulated data. Then add the prediction as a new column of the csv, named \"prediction\"."
   ]
  },
  {
   "cell_type": "code",
   "execution_count": 289,
   "metadata": {},
   "outputs": [
    {
     "name": "stderr",
     "output_type": "stream",
     "text": [
      "/usr/local/lib/python2.7/site-packages/sklearn/preprocessing/label.py:171: DeprecationWarning: The truth value of an empty array is ambiguous. Returning False, but in future this will result in an error. Use `array.size > 0` to check that an array is not empty.\n",
      "  if diff:\n"
     ]
    }
   ],
   "source": [
    "from pickle import load\n",
    "# load the model from disk\n",
    "simulato=SIM_test\n",
    "#simulato=simulato.drop('mva', axis=1)\n",
    "simulato=simulato.drop('category', axis=1)\n",
    "simulato=simulato.drop('nBJets', axis=1)\n",
    "#simulato['target']=np.ones(len(simulato['category']))\n",
    "simulato\n",
    "\n",
    "array=simulato.values\n",
    "X = array[:, :-10]\n",
    "#da= pd.DataFrame(X)\n",
    "#da\n",
    "filename = 'finalized_model_pickle_mva.sav'\n",
    "loaded_model = load(open(filename,'rb'))\n",
    "result = loaded_model.predict(X)\n",
    "simulato['prediction']=result"
   ]
  },
  {
   "cell_type": "markdown",
   "metadata": {},
   "source": [
    "Do some test to verify how are the predictions and what's the behaviour of mva compared to prediction"
   ]
  },
  {
   "cell_type": "code",
   "execution_count": 268,
   "metadata": {},
   "outputs": [
    {
     "name": "stdout",
     "output_type": "stream",
     "text": [
      "21886\n",
      "92038\n"
     ]
    }
   ],
   "source": [
    "err=0\n",
    "for i in range(0,len(simulato['prediction'])):\n",
    "    if simulato['prediction'][i]==0:\n",
    "        err+=1\n",
    "print err\n",
    "print len(simulato['prediction'])-err"
   ]
  },
  {
   "cell_type": "code",
   "execution_count": 205,
   "metadata": {},
   "outputs": [
    {
     "name": "stdout",
     "output_type": "stream",
     "text": [
      "0.861811383027\n",
      "0.809048137355\n",
      "92170\n"
     ]
    }
   ],
   "source": [
    "eff_ML=1-err/float(len(SIM_test['mva']))\n",
    "print eff_ML\n",
    "segnale=0\n",
    "fondo=0\n",
    "for i in range(0,len(SIM_test['mva'])):\n",
    "    if SIM_test['mva'][i]>0.428798:\n",
    "        segnale+=1\n",
    "    else:\n",
    "        fondo+=1\n",
    "eff_mva=segnale/float(len(SIM_test['mva']))\n",
    "print eff_mva\n",
    "print segnale"
   ]
  },
  {
   "cell_type": "code",
   "execution_count": 189,
   "metadata": {},
   "outputs": [
    {
     "name": "stdout",
     "output_type": "stream",
     "text": [
      "21835\n"
     ]
    }
   ],
   "source": [
    "uguale=0\n",
    "for i in range(0,len(simulato['prediction'])):\n",
    "    if simulato['prediction'][i]==0 and SIM_test['mva'][i]<0.9:\n",
    "        uguale+=1\n",
    "print uguale"
   ]
  },
  {
   "cell_type": "code",
   "execution_count": 200,
   "metadata": {},
   "outputs": [
    {
     "name": "stdout",
     "output_type": "stream",
     "text": [
      "4176\n",
      "0.0238085735951\n"
     ]
    }
   ],
   "source": [
    "contatore=0\n",
    "for i in range(0,len(dati_test['mva'])):\n",
    "    if dati_test['mva'][i]>0.9:\n",
    "        contatore+=1\n",
    "print contatore\n",
    "print contatore/float(len(dati_test['mva']))"
   ]
  },
  {
   "cell_type": "markdown",
   "metadata": {},
   "source": [
    "Load the model and apply it to the csv file with real data. Then add the prediction as a new column of the csv, named \"prediction\"."
   ]
  },
  {
   "cell_type": "code",
   "execution_count": 290,
   "metadata": {},
   "outputs": [
    {
     "name": "stderr",
     "output_type": "stream",
     "text": [
      "/usr/local/lib/python2.7/site-packages/sklearn/preprocessing/label.py:171: DeprecationWarning: The truth value of an empty array is ambiguous. Returning False, but in future this will result in an error. Use `array.size > 0` to check that an array is not empty.\n",
      "  if diff:\n"
     ]
    }
   ],
   "source": [
    "from pickle import load\n",
    "# load the model from disk\n",
    "reale=dati_test\n",
    "#reale=reale.drop('mva', axis=1)\n",
    "reale=reale.drop('category', axis=1)\n",
    "reale=reale.drop('nBJets', axis=1)\n",
    "#simulato['target']=np.ones(len(simulato['category']))\n",
    "\n",
    "array=reale.values\n",
    "X = array[:, :-10]\n",
    "#da= pd.DataFrame(X)\n",
    "#da\n",
    "filename = 'finalized_model_pickle_mva.sav'\n",
    "loaded_model = load(open(filename,'rb'))\n",
    "results = loaded_model.predict(X)\n",
    "reale['prediction']=results"
   ]
  },
  {
   "cell_type": "markdown",
   "metadata": {},
   "source": [
    "Do other tests"
   ]
  },
  {
   "cell_type": "code",
   "execution_count": 113,
   "metadata": {},
   "outputs": [
    {
     "name": "stdout",
     "output_type": "stream",
     "text": [
      "49729\n",
      "0.283519290304\n"
     ]
    }
   ],
   "source": [
    "err=0\n",
    "for i in range(0,len(reale['prediction'])):\n",
    "    if reale['prediction'][i]==1:\n",
    "        err+=1\n",
    "print err\n",
    "print err/float(len(reale['prediction']))"
   ]
  },
  {
   "cell_type": "code",
   "execution_count": 174,
   "metadata": {},
   "outputs": [
    {
     "name": "stdout",
     "output_type": "stream",
     "text": [
      "125522\n"
     ]
    }
   ],
   "source": [
    "uguale=0\n",
    "for i in range(0,len(reale['prediction'])):\n",
    "    if reale['prediction'][i]==0 and dati_test['mva'][i]<0.9:\n",
    "        uguale+=1\n",
    "print uguale"
   ]
  },
  {
   "cell_type": "markdown",
   "metadata": {},
   "source": [
    "Use ROOT to plot mva and prediction==1 events"
   ]
  },
  {
   "cell_type": "code",
   "execution_count": 236,
   "metadata": {},
   "outputs": [],
   "source": [
    "import ROOT\n",
    "from ROOT import TCanvas, TH1F, TLegend, TPad"
   ]
  },
  {
   "cell_type": "code",
   "execution_count": 295,
   "metadata": {},
   "outputs": [
    {
     "name": "stderr",
     "output_type": "stream",
     "text": [
      "Warning in <TCanvas::Constructor>: Deleting canvas with same name: c1\n",
      "Warning in <TROOT::Append>: Replacing existing TH1: original mva (Potential memory leak).\n",
      "Warning in <TROOT::Append>: Replacing existing TH1: mva after ML (Potential memory leak).\n"
     ]
    },
    {
     "data": {
      "image/png": "[encoded data removed]",
      "text/plain": [
       "<IPython.core.display.Image object>"
      ]
     },
     "metadata": {},
     "output_type": "display_data"
    }
   ],
   "source": [
    "c = TCanvas(\"c1\",\"c1\")\n",
    "histo=TH1F(\"original mva\",\"mva\", 200, 0, 1)\n",
    "histo.SetTitle(\"'mva' from tt SIM data (category==1)\");\n",
    "histo.GetXaxis().SetTitle(\"mva\");\n",
    "histo2=TH1F(\"mva after ML\",\"mva\", 200, 0, 1)\n",
    "for index, row in SIM_test.iterrows():\n",
    "    histo.Fill(row['mva'])\n",
    "histo.SetFillColor( 45 )\n",
    "histo.Draw()\n",
    "for i in range(0,len(simulato['prediction'])):\n",
    "    if simulato['prediction'][i]==1:\n",
    "        histo2.Fill(SIM_test['mva'][i])\n",
    "histo2.SetFillColor( 42 )\n",
    "histo2.Draw('SAME')\n",
    "leg=TLegend(0.1,0.7,0.48,0.9);\n",
    "leg.AddEntry(histo,\"original mva\",\"fp\");\n",
    "leg.AddEntry(histo2,\"mva after ML\",\"fp\");\n",
    "#leg.SetTextFont(20);\n",
    "leg.SetTextSize(.04);\n",
    "leg.Draw('SAME');\n",
    "c.Draw()"
   ]
  },
  {
   "cell_type": "code",
   "execution_count": 296,
   "metadata": {},
   "outputs": [
    {
     "name": "stderr",
     "output_type": "stream",
     "text": [
      "Warning in <TCanvas::Constructor>: Deleting canvas with same name: c1\n"
     ]
    },
    {
     "data": {
      "image/png": "[encoded data removed]",
      "text/plain": [
       "<IPython.core.display.Image object>"
      ]
     },
     "metadata": {},
     "output_type": "display_data"
    }
   ],
   "source": [
    "c = TCanvas(\"c1\",\"c1\")\n",
    "histo2=TH1F(\"mva data after ML\",\"mva\", 200, 0, 1)\n",
    "for i in range(0,len(simulato['prediction'])):\n",
    "    if simulato['prediction'][i]==1:\n",
    "        histo2.Fill(SIM_test['mva'][i])\n",
    "histo2.Draw()\n",
    "c.Draw()"
   ]
  },
  {
   "cell_type": "code",
   "execution_count": null,
   "metadata": {},
   "outputs": [],
   "source": []
  }
 ],
 "metadata": {
  "kernelspec": {
   "display_name": "Python 2",
   "language": "python",
   "name": "python2"
  },
  "language_info": {
   "codemirror_mode": {
    "name": "ipython",
    "version": 2
   },
   "file_extension": ".py",
   "mimetype": "text/x-python",
   "name": "python",
   "nbconvert_exporter": "python",
   "pygments_lexer": "ipython2",
   "version": "2.7.14"
  }
 },
 "nbformat": 4,
 "nbformat_minor": 2
}
