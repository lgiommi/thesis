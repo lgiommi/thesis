{
 "cells": [
  {
   "cell_type": "markdown",
   "metadata": {},
   "source": [
    "# Load data from CSV into a dictionary"
   ]
  },
  {
   "cell_type": "markdown",
   "metadata": {},
   "source": [
    "Import what we need to"
   ]
  },
  {
   "cell_type": "code",
   "execution_count": 1,
   "metadata": {},
   "outputs": [],
   "source": [
    "from pandas import read_csv\n",
    "import numpy"
   ]
  },
  {
   "cell_type": "markdown",
   "metadata": {},
   "source": [
    "Load the desired csv-file and inspect what there is inside."
   ]
  },
  {
   "cell_type": "code",
   "execution_count": 2,
   "metadata": {},
   "outputs": [
    {
     "name": "stdout",
     "output_type": "stream",
     "text": [
      "    runNo      evtNo  nJets  nLeptons  nBJets  category       mva  \\\n",
      "0  273158  228810226      2         0       0         0  0.189198   \n",
      "1  273158  229307679      2         0       2         1  0.521495   \n",
      "2  273158  228310605      2         0       1         1  0.156925   \n",
      "3  273158  229301195      2         0       0         0  0.672768   \n",
      "4  273158  228701365      2         0       0         0  0.112140   \n",
      "\n",
      "                           jetPt                     jetEta  \\\n",
      "0  [ 541.77087402  464.63562012]  [-1.27204072 -1.12141407]   \n",
      "1  [ 517.32470703  496.56582642]  [-0.2537986  -0.87236762]   \n",
      "2  [ 349.65866089  332.52963257]  [ 1.73221755  1.67374265]   \n",
      "3  [ 594.96844482  274.63192749]  [ 0.89914244  0.98478043]   \n",
      "4  [ 459.79718018  370.2250061 ]  [ 1.69145811  1.48902428]   \n",
      "\n",
      "                      jetPhi                        jetMass  \\\n",
      "0  [ 0.85293347 -2.31530166]  [  90.10404968  169.53872681]   \n",
      "1  [-0.57428694  2.58487558]  [ 118.85973358  111.77454376]   \n",
      "2  [-2.57324243  0.54033947]    [ 96.30269623  79.04605865]   \n",
      "3  [-1.6542356   0.99271303]  [ 154.22750854   79.55821228]   \n",
      "4  [-1.60586107  0.7266683 ]  [ 100.54259491  107.99253845]   \n",
      "\n",
      "                 jetMassSoftDrop                    jetTau1  \\\n",
      "0  [  55.78746414  157.27244568]  [ 0.10322858  0.32209143]   \n",
      "1    [ 78.54223633  88.19883728]  [ 0.21970239  0.20030583]   \n",
      "2    [ 81.97145081  52.33564377]  [ 0.2550838   0.20548898]   \n",
      "3  [ 145.40226746   70.22924042]  [ 0.1574429   0.25757334]   \n",
      "4    [ 59.64906693  68.79566956]  [ 0.17243049  0.29329273]   \n",
      "\n",
      "                     jetTau2                    jetTau3  \\\n",
      "0  [ 0.07227356  0.10500722]  [ 0.06205374  0.08902366]   \n",
      "1  [ 0.1079993   0.08130891]  [ 0.08149232  0.05912198]   \n",
      "2  [ 0.09713145  0.14003983]  [ 0.08022925  0.1168929 ]   \n",
      "3  [ 0.04478972  0.17003486]  [ 0.04123738  0.09245322]   \n",
      "4  [ 0.09581608  0.17479421]  [ 0.08641738  0.14332913]   \n",
      "\n",
      "                                          triggerBit  \n",
      "0  [ True  True  True False False False False Fal...  \n",
      "1  [ True  True  True False False False False Fal...  \n",
      "2  [False  True  True False False False False Fal...  \n",
      "3  [ True  True  True False False False False Fal...  \n",
      "4  [False  True  True False False False False Fal...  \n"
     ]
    }
   ],
   "source": [
    "filename = 'small10kevts.csv'\n",
    "data = read_csv(filename)\n",
    "peek=data.head(5)\n",
    "print (peek)"
   ]
  },
  {
   "cell_type": "markdown",
   "metadata": {},
   "source": [
    "Show the type of the columns of the csv."
   ]
  },
  {
   "cell_type": "code",
   "execution_count": 3,
   "metadata": {},
   "outputs": [
    {
     "name": "stdout",
     "output_type": "stream",
     "text": [
      "runNo                int64\n",
      "evtNo                int64\n",
      "nJets                int64\n",
      "nLeptons             int64\n",
      "nBJets               int64\n",
      "category             int64\n",
      "mva                float64\n",
      "jetPt               object\n",
      "jetEta              object\n",
      "jetPhi              object\n",
      "jetMass             object\n",
      "jetMassSoftDrop     object\n",
      "jetTau1             object\n",
      "jetTau2             object\n",
      "jetTau3             object\n",
      "triggerBit          object\n",
      "dtype: object\n"
     ]
    }
   ],
   "source": [
    "types = data.dtypes\n",
    "print(types)"
   ]
  },
  {
   "cell_type": "markdown",
   "metadata": {},
   "source": [
    "Define a function that returns a list that contains all the elements of the string (that is an array)"
   ]
  },
  {
   "cell_type": "code",
   "execution_count": 4,
   "metadata": {},
   "outputs": [],
   "source": [
    "def converter(tipo):\n",
    "    count=[]\n",
    "    lst=[]\n",
    "    start=0\n",
    "    prohibited=['[',']', \" \"]\n",
    "    true_false=[\"True\",\"False\"]\n",
    "    for i in range (0,len(data[key][0])):\n",
    "        if data[key][0][i] not in prohibited:\n",
    "            start=1\n",
    "            lst.append(data[key][0][i])\n",
    "        elif start == 0:\n",
    "            continue\n",
    "        else:\n",
    "            if lst==[]:\n",
    "                continue\n",
    "            count.append(''.join(lst))\n",
    "            lst=[]\n",
    "    if count[0] not in true_false:\n",
    "        count = [float(i) for i in count]\n",
    "    else:\n",
    "        count = [int(eval(i)) for i in count]\n",
    "    return count"
   ]
  },
  {
   "cell_type": "markdown",
   "metadata": {},
   "source": [
    "Create a new empty dictionary and load the keys with the name of branches (columns) of the csv."
   ]
  },
  {
   "cell_type": "code",
   "execution_count": null,
   "metadata": {},
   "outputs": [
    {
     "name": "stdout",
     "output_type": "stream",
     "text": [
      "{'category': None, 'jetTau3': None, 'jetTau1': None, 'jetMass': None, 'nJets': None, 'triggerBit': None, 'jetPt': None, 'jetPhi': None, 'mva': None, 'nBJets': None, 'evtNo': None, 'nLeptons': None, 'jetEta': None, 'jetTau2': None, 'runNo': None, 'jetMassSoftDrop': None}\n"
     ]
    }
   ],
   "source": [
    "dict={}\n",
    "branches=data.columns\n",
    "dict = dict.fromkeys(branches)\n",
    "print dict"
   ]
  },
  {
   "cell_type": "markdown",
   "metadata": {},
   "source": [
    "Fill the dictionary with all the entries of the csv."
   ]
  },
  {
   "cell_type": "code",
   "execution_count": null,
   "metadata": {},
   "outputs": [],
   "source": [
    "numbers=[numpy.int64,numpy.float64]\n",
    "for key in branches:\n",
    "    if type(data[key][0]) in numbers:\n",
    "        dict[key]=data[key]\n",
    "    if type(data[key][0])==str:\n",
    "        listone=[]\n",
    "        for evts in range (0, len(data[key])):\n",
    "            listone.append(converter(key))\n",
    "        dict[key]=listone"
   ]
  },
  {
   "cell_type": "markdown",
   "metadata": {},
   "source": [
    "Check out how the dictionary looks like now"
   ]
  },
  {
   "cell_type": "code",
   "execution_count": null,
   "metadata": {},
   "outputs": [],
   "source": [
    "print dict"
   ]
  },
  {
   "cell_type": "markdown",
   "metadata": {},
   "source": [
    "Print the length for each dict[key]"
   ]
  },
  {
   "cell_type": "code",
   "execution_count": null,
   "metadata": {},
   "outputs": [],
   "source": [
    "for key in branches:\n",
    "    print key, \"->\", len(dict[key])"
   ]
  },
  {
   "cell_type": "code",
   "execution_count": null,
   "metadata": {},
   "outputs": [],
   "source": []
  }
 ],
 "metadata": {
  "kernelspec": {
   "display_name": "Python 2",
   "language": "python",
   "name": "python2"
  },
  "language_info": {
   "codemirror_mode": {
    "name": "ipython",
    "version": 2
   },
   "file_extension": ".py",
   "mimetype": "text/x-python",
   "name": "python",
   "nbconvert_exporter": "python",
   "pygments_lexer": "ipython2",
   "version": "2.7.14"
  }
 },
 "nbformat": 4,
 "nbformat_minor": 2
}
